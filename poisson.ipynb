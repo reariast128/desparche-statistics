{
 "cells": [
  {
   "cell_type": "code",
   "execution_count": 43,
   "metadata": {},
   "outputs": [],
   "source": [
    "from math import *\n",
    "from typing import Callable"
   ]
  },
  {
   "cell_type": "code",
   "execution_count": 44,
   "metadata": {},
   "outputs": [],
   "source": [
    "def poisson(mu: float, t: float) -> Callable:\n",
    "    def wrapper(x_equal: int) -> float:\n",
    "        return (exp(-mu*t)*pow(mu*t, x_equal))/factorial(x_equal)\n",
    "    return wrapper"
   ]
  },
  {
   "cell_type": "markdown",
   "metadata": {},
   "source": [
    "Suponga que el número $X$ de tornados observados en una región particular durante un año tiene una distribución de Poisson y en promedio se presentan $8$ tornados al año."
   ]
  },
  {
   "cell_type": "code",
   "execution_count": 45,
   "metadata": {},
   "outputs": [],
   "source": [
    "tornado_poisson = poisson(8, 1)"
   ]
  },
  {
   "cell_type": "markdown",
   "metadata": {},
   "source": [
    "​\n",
    "Calcular la probabilidad que hayan menos de $5$ tornados en un año.\n",
    "\n",
    "$$P(X < 5) = \\sum_{x=0}^{5}{P(x)}$$"
   ]
  },
  {
   "cell_type": "code",
   "execution_count": 46,
   "metadata": {},
   "outputs": [
    {
     "name": "stdout",
     "output_type": "stream",
     "text": [
      "X < 5: 0.09929693785914351\n"
     ]
    }
   ],
   "source": [
    "x_less_5 = sum([tornado_poisson(x) for x in range(1, 5)])\n",
    "print(f\"X < 5: {x_less_5}\")"
   ]
  },
  {
   "cell_type": "markdown",
   "metadata": {},
   "source": [
    "Calcular la probabilidad que haya entre $4$ y $9$ tornados en un año​.\n",
    "\n",
    "$$P(4 < X < 9) = \\sum_{x=5}^{8}{P(x)}$$"
   ]
  },
  {
   "cell_type": "code",
   "execution_count": 47,
   "metadata": {},
   "outputs": [
    {
     "name": "stdout",
     "output_type": "stream",
     "text": [
      "4 < X < 9 = 0.49291494095054533\n"
     ]
    }
   ],
   "source": [
    "x_between_4_9 = sum([tornado_poisson(x) for x in range(5, 9)])\n",
    "print(f\"4 < X < 9 = {x_between_4_9}\")"
   ]
  },
  {
   "cell_type": "markdown",
   "metadata": {},
   "source": [
    "​\n",
    "Teniendo en cuenta los bordes\n",
    "\n",
    "$$P(4 \\le X \\le 9) = \\sum_{x=4}^{9}{P(x)}$$"
   ]
  },
  {
   "cell_type": "code",
   "execution_count": 48,
   "metadata": {},
   "outputs": [
    {
     "name": "stdout",
     "output_type": "stream",
     "text": [
      "4 <= X <= 9 = 0.6742441467353268\n"
     ]
    }
   ],
   "source": [
    "x_between_4_9_with_borders = sum([tornado_poisson(x) for x in range(4, 10)])\n",
    "print(f\"4 <= X <= 9 = {x_between_4_9_with_borders}\")"
   ]
  },
  {
   "cell_type": "markdown",
   "metadata": {},
   "source": [
    "Calcular la probabilidad que haya a lo sumo $5$ tornados en un año\n",
    "\n",
    "$$P(4 \\le 5) = \\sum_{x=0}^{5}{P(x)}$$"
   ]
  },
  {
   "cell_type": "code",
   "execution_count": 49,
   "metadata": {},
   "outputs": [
    {
     "name": "stdout",
     "output_type": "stream",
     "text": [
      "X <= 5 = 0.19123606207962526\n"
     ]
    }
   ],
   "source": [
    "x_less_with_5 = sum([tornado_poisson(x) for x in range(0, 6)])\n",
    "print(f\"X <= 5 = {x_less_with_5}\")"
   ]
  },
  {
   "cell_type": "code",
   "execution_count": 50,
   "metadata": {},
   "outputs": [
    {
     "name": "stdout",
     "output_type": "stream",
     "text": [
      "X > 10 = 0.18411420744145357\n"
     ]
    }
   ],
   "source": [
    "x_bigger_than_10 = 1 - sum([tornado_poisson(x) for x in range(0, 11)])\n",
    "print(f\"X > 10 = {x_bigger_than_10}\")"
   ]
  },
  {
   "cell_type": "code",
   "execution_count": 51,
   "metadata": {},
   "outputs": [],
   "source": [
    "tornado_poisson_half_year = poisson(8, 1/2)"
   ]
  },
  {
   "cell_type": "code",
   "execution_count": 52,
   "metadata": {},
   "outputs": [
    {
     "name": "stdout",
     "output_type": "stream",
     "text": [
      "X = 0.19536681481316456\n"
     ]
    }
   ],
   "source": [
    "x_in_3_years = tornado_poisson_half_year(3)\n",
    "print(f\"X = {x_in_3_years}\")"
   ]
  },
  {
   "cell_type": "code",
   "execution_count": 53,
   "metadata": {},
   "outputs": [],
   "source": [
    "rats_poisson = poisson(6, 1)"
   ]
  },
  {
   "cell_type": "code",
   "execution_count": 54,
   "metadata": {},
   "outputs": [
    {
     "name": "stdout",
     "output_type": "stream",
     "text": [
      "P(X = 5) = 0.16062314104798003\n"
     ]
    }
   ],
   "source": [
    "x_equals_5 = rats_poisson(5)\n",
    "print(f\"P(X = 5) = {x_equals_5}\")"
   ]
  },
  {
   "cell_type": "code",
   "execution_count": 55,
   "metadata": {},
   "outputs": [
    {
     "name": "stdout",
     "output_type": "stream",
     "text": [
      "P(X > 2) = 1 - P(X <= 2) = 0.938031195583341\n"
     ]
    }
   ],
   "source": [
    "x_bigger_than_2 = 1 - sum([rats_poisson(x) for x in range(0, 3)])\n",
    "print(f\"P(X > 2) = 1 - P(X <= 2) = {x_bigger_than_2}\")"
   ]
  },
  {
   "cell_type": "code",
   "execution_count": 61,
   "metadata": {},
   "outputs": [],
   "source": [
    "rats_poisson = poisson(6, 3)"
   ]
  },
  {
   "cell_type": "code",
   "execution_count": 62,
   "metadata": {},
   "outputs": [
    {
     "name": "stdout",
     "output_type": "stream",
     "text": [
      "P(X < 4) = 0.000018\n"
     ]
    }
   ],
   "source": [
    "x_less_4 = sum([rats_poisson(x) for x in range(0, 4)])\n",
    "print(f\"P(X < 4) = {x_less_4:f}\")"
   ]
  },
  {
   "cell_type": "code",
   "execution_count": 58,
   "metadata": {},
   "outputs": [],
   "source": [
    "rats_poisson = poisson(6, 1/2)"
   ]
  },
  {
   "cell_type": "code",
   "execution_count": 59,
   "metadata": {},
   "outputs": [
    {
     "name": "stdout",
     "output_type": "stream",
     "text": [
      "P(4 <= X <= 7) = 0.34086360736141136\n"
     ]
    }
   ],
   "source": [
    "x_between_4_7_with_borders = sum([rats_poisson(x) for x in range(4, 8)])\n",
    "print(f\"P(4 <= X <= 7) = {x_between_4_7_with_borders}\")"
   ]
  }
 ],
 "metadata": {
  "kernelspec": {
   "display_name": "env",
   "language": "python",
   "name": "python3"
  },
  "language_info": {
   "codemirror_mode": {
    "name": "ipython",
    "version": 3
   },
   "file_extension": ".py",
   "mimetype": "text/x-python",
   "name": "python",
   "nbconvert_exporter": "python",
   "pygments_lexer": "ipython3",
   "version": "3.10.12"
  }
 },
 "nbformat": 4,
 "nbformat_minor": 2
}
